{
 "metadata": {
  "language_info": {
   "codemirror_mode": {
    "name": "ipython",
    "version": 3
   },
   "file_extension": ".py",
   "mimetype": "text/x-python",
   "name": "python",
   "nbconvert_exporter": "python",
   "pygments_lexer": "ipython3",
   "version": "3.8.5-final"
  },
  "orig_nbformat": 2,
  "kernelspec": {
   "name": "python3",
   "display_name": "Python 3.8.5 64-bit (conda)",
   "metadata": {
    "interpreter": {
     "hash": "b9cdb420fd02d04a6f4f13af578f724da7ae6da655c0c609f3394904c1b4bacd"
    }
   }
  }
 },
 "nbformat": 4,
 "nbformat_minor": 2,
 "cells": [
  {
   "cell_type": "code",
   "execution_count": 1,
   "metadata": {},
   "outputs": [],
   "source": [
    "import pandas as pd\n",
    "import yfinance as yf\n",
    "\n",
    "from pypfopt.efficient_frontier import EfficientFrontier\n",
    "from pypfopt import risk_models\n",
    "from pypfopt import expected_returns\n",
    "\n",
    "from pypfopt.discrete_allocation import DiscreteAllocation, get_latest_prices"
   ]
  },
  {
   "cell_type": "code",
   "execution_count": 2,
   "metadata": {},
   "outputs": [
    {
     "output_type": "execute_result",
     "data": {
      "text/plain": [
       "          SETOR TICKET          STATUS TICKET AJUSTADO\n",
       "7   ALIMENTACAO  CAML3  FUNDAMENTOS OK        CAML3.SA\n",
       "3      BANCARIO  BIDI4  FUNDAMENTOS OK        BIDI4.SA\n",
       "5      BANCARIO  B3SA3  FUNDAMENTOS OK        B3SA3.SA\n",
       "12     BANCARIO  ITSA4  FUNDAMENTOS OK        ITSA4.SA\n",
       "2   COMUNICACAO  OIBR3     ESPECULACAO        OIBR3.SA"
      ],
      "text/html": "<div>\n<style scoped>\n    .dataframe tbody tr th:only-of-type {\n        vertical-align: middle;\n    }\n\n    .dataframe tbody tr th {\n        vertical-align: top;\n    }\n\n    .dataframe thead th {\n        text-align: right;\n    }\n</style>\n<table border=\"1\" class=\"dataframe\">\n  <thead>\n    <tr style=\"text-align: right;\">\n      <th></th>\n      <th>SETOR</th>\n      <th>TICKET</th>\n      <th>STATUS</th>\n      <th>TICKET AJUSTADO</th>\n    </tr>\n  </thead>\n  <tbody>\n    <tr>\n      <th>7</th>\n      <td>ALIMENTACAO</td>\n      <td>CAML3</td>\n      <td>FUNDAMENTOS OK</td>\n      <td>CAML3.SA</td>\n    </tr>\n    <tr>\n      <th>3</th>\n      <td>BANCARIO</td>\n      <td>BIDI4</td>\n      <td>FUNDAMENTOS OK</td>\n      <td>BIDI4.SA</td>\n    </tr>\n    <tr>\n      <th>5</th>\n      <td>BANCARIO</td>\n      <td>B3SA3</td>\n      <td>FUNDAMENTOS OK</td>\n      <td>B3SA3.SA</td>\n    </tr>\n    <tr>\n      <th>12</th>\n      <td>BANCARIO</td>\n      <td>ITSA4</td>\n      <td>FUNDAMENTOS OK</td>\n      <td>ITSA4.SA</td>\n    </tr>\n    <tr>\n      <th>2</th>\n      <td>COMUNICACAO</td>\n      <td>OIBR3</td>\n      <td>ESPECULACAO</td>\n      <td>OIBR3.SA</td>\n    </tr>\n  </tbody>\n</table>\n</div>"
     },
     "metadata": {},
     "execution_count": 2
    }
   ],
   "source": [
    "stocks = pd.read_csv('ACOES.csv')\n",
    "stocks[\"TICKET AJUSTADO\"] = stocks['TICKET'] + '.SA'\n",
    "stocks = stocks.sort_values(by='SETOR')\n"
   ]
  },
  {
   "cell_type": "code",
   "execution_count": 3,
   "metadata": {},
   "outputs": [],
   "source": []
  },
  {
   "cell_type": "code",
   "execution_count": 25,
   "metadata": {},
   "outputs": [
    {
     "output_type": "stream",
     "name": "stdout",
     "text": [
      "[*********************100%***********************]  20 of 20 completed\n"
     ]
    }
   ],
   "source": [
    "y_stocks = stocks[['TICKET AJUSTADO', 'TICKET']]\n",
    "\n",
    "stock_data = yf.download(list(y_stocks['TICKET AJUSTADO']),  period = \"ytd\")\n",
    "stock_closed_vl = stock_data['Close']"
   ]
  },
  {
   "cell_type": "code",
   "execution_count": 26,
   "metadata": {},
   "outputs": [
    {
     "output_type": "stream",
     "name": "stdout",
     "text": [
      "Expected annual return: 2550.5%\nAnnual volatility: 70.2%\nSharpe Ratio: 36.31\n"
     ]
    },
    {
     "output_type": "execute_result",
     "data": {
      "text/plain": [
       "(25.505419166948236, 0.7018338918177655, 36.31260824543601)"
      ]
     },
     "metadata": {},
     "execution_count": 26
    }
   ],
   "source": [
    "# Calculate expected returns and sample covariance\n",
    "mu = expected_returns.mean_historical_return(stock_closed_vl)\n",
    "S = risk_models.sample_cov(stock_closed_vl)\n",
    "\n",
    "# Optimize for maximal Sharpe ratio\n",
    "ef = EfficientFrontier(mu, S)\n",
    "weights = ef.max_sharpe()\n",
    "cleaned_weights = ef.clean_weights()\n",
    "ef.portfolio_performance(verbose=True)"
   ]
  },
  {
   "cell_type": "code",
   "execution_count": 27,
   "metadata": {},
   "outputs": [
    {
     "output_type": "stream",
     "name": "stdout",
     "text": [
      "{'BIDI4.SA': 9, 'OIBR3.SA': 61}\n1.0300188064575195\n"
     ]
    }
   ],
   "source": [
    "latest_prices = get_latest_prices(stock_closed_vl)\n",
    "da = DiscreteAllocation(weights, latest_prices, total_portfolio_value=600)\n",
    "allocation, leftover = da.lp_portfolio()\n",
    "print(allocation)\n",
    "print(leftover)"
   ]
  }
 ]
}